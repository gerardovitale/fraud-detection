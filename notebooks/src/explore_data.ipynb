{
 "cells": [
  {
   "cell_type": "code",
   "execution_count": 1,
   "id": "2617bcbc",
   "metadata": {},
   "outputs": [],
   "source": [
    "import numpy as np\n",
    "import pandas as pd\n",
    "import matplotlib.pyplot as plt\n",
    "import seaborn as sns\n",
    "\n",
    "from sklearn.model_selection import (train_test_split, StratifiedShuffleSplit, \n",
    "                                     RepeatedStratifiedKFold, GridSearchCV)\n",
    "from sklearn.linear_model import LogisticRegression\n",
    "from sklearn.ensemble import RandomForestClassifier\n",
    "from sklearn.metrics import f1_score, precision_score, recall_score, roc_auc_score\n",
    "\n",
    "from imblearn.over_sampling import SMOTE\n",
    "\n",
    "\n",
    "DATA_PATH = '../../data/creditcard.csv'\n",
    "RANDOM_STATE = 42\n",
    "TEST_SIZE = 0.25"
   ]
  },
  {
   "cell_type": "markdown",
   "id": "d6e72521",
   "metadata": {},
   "source": [
    "### Table of Content\n",
    "insert content in here!!"
   ]
  },
  {
   "cell_type": "code",
   "execution_count": 2,
   "id": "76d6cc04",
   "metadata": {},
   "outputs": [],
   "source": [
    "df = pd.read_csv(DATA_PATH)"
   ]
  },
  {
   "cell_type": "markdown",
   "id": "a0b3a92f",
   "metadata": {},
   "source": [
    "## Info about the dataset\n",
    "\n",
    "- **Time:** Feature “Time” denotes the seconds elapsed between each transaction and the first transaction in the dataset\n",
    "\n",
    "- **Features:** The meaning of most variables is not revealed and the features have been transformed by means of principal components. The cardholder identifier is also not available so each transaction can be considered independent from the others.\n",
    "\n",
    "- **Amount:** The feature “Amount” is the transaction amount, which can be used for example-dependent cost-sensitive learning.\n",
    "\n",
    "- **Class:** Feature “Class” is the response variable and it takes value 1 in case of fraud and 0 otherwise"
   ]
  },
  {
   "cell_type": "code",
   "execution_count": 3,
   "id": "491c118c",
   "metadata": {},
   "outputs": [
    {
     "data": {
      "text/html": [
       "<div>\n",
       "<style scoped>\n",
       "    .dataframe tbody tr th:only-of-type {\n",
       "        vertical-align: middle;\n",
       "    }\n",
       "\n",
       "    .dataframe tbody tr th {\n",
       "        vertical-align: top;\n",
       "    }\n",
       "\n",
       "    .dataframe thead th {\n",
       "        text-align: right;\n",
       "    }\n",
       "</style>\n",
       "<table border=\"1\" class=\"dataframe\">\n",
       "  <thead>\n",
       "    <tr style=\"text-align: right;\">\n",
       "      <th></th>\n",
       "      <th>Time</th>\n",
       "      <th>V1</th>\n",
       "      <th>V2</th>\n",
       "      <th>V3</th>\n",
       "      <th>V4</th>\n",
       "      <th>V5</th>\n",
       "      <th>V6</th>\n",
       "      <th>V7</th>\n",
       "      <th>V8</th>\n",
       "      <th>V9</th>\n",
       "      <th>...</th>\n",
       "      <th>V21</th>\n",
       "      <th>V22</th>\n",
       "      <th>V23</th>\n",
       "      <th>V24</th>\n",
       "      <th>V25</th>\n",
       "      <th>V26</th>\n",
       "      <th>V27</th>\n",
       "      <th>V28</th>\n",
       "      <th>Amount</th>\n",
       "      <th>Class</th>\n",
       "    </tr>\n",
       "  </thead>\n",
       "  <tbody>\n",
       "    <tr>\n",
       "      <th>0</th>\n",
       "      <td>0.0</td>\n",
       "      <td>-1.359807</td>\n",
       "      <td>-0.072781</td>\n",
       "      <td>2.536347</td>\n",
       "      <td>1.378155</td>\n",
       "      <td>-0.338321</td>\n",
       "      <td>0.462388</td>\n",
       "      <td>0.239599</td>\n",
       "      <td>0.098698</td>\n",
       "      <td>0.363787</td>\n",
       "      <td>...</td>\n",
       "      <td>-0.018307</td>\n",
       "      <td>0.277838</td>\n",
       "      <td>-0.110474</td>\n",
       "      <td>0.066928</td>\n",
       "      <td>0.128539</td>\n",
       "      <td>-0.189115</td>\n",
       "      <td>0.133558</td>\n",
       "      <td>-0.021053</td>\n",
       "      <td>149.62</td>\n",
       "      <td>0</td>\n",
       "    </tr>\n",
       "    <tr>\n",
       "      <th>1</th>\n",
       "      <td>0.0</td>\n",
       "      <td>1.191857</td>\n",
       "      <td>0.266151</td>\n",
       "      <td>0.166480</td>\n",
       "      <td>0.448154</td>\n",
       "      <td>0.060018</td>\n",
       "      <td>-0.082361</td>\n",
       "      <td>-0.078803</td>\n",
       "      <td>0.085102</td>\n",
       "      <td>-0.255425</td>\n",
       "      <td>...</td>\n",
       "      <td>-0.225775</td>\n",
       "      <td>-0.638672</td>\n",
       "      <td>0.101288</td>\n",
       "      <td>-0.339846</td>\n",
       "      <td>0.167170</td>\n",
       "      <td>0.125895</td>\n",
       "      <td>-0.008983</td>\n",
       "      <td>0.014724</td>\n",
       "      <td>2.69</td>\n",
       "      <td>0</td>\n",
       "    </tr>\n",
       "    <tr>\n",
       "      <th>2</th>\n",
       "      <td>1.0</td>\n",
       "      <td>-1.358354</td>\n",
       "      <td>-1.340163</td>\n",
       "      <td>1.773209</td>\n",
       "      <td>0.379780</td>\n",
       "      <td>-0.503198</td>\n",
       "      <td>1.800499</td>\n",
       "      <td>0.791461</td>\n",
       "      <td>0.247676</td>\n",
       "      <td>-1.514654</td>\n",
       "      <td>...</td>\n",
       "      <td>0.247998</td>\n",
       "      <td>0.771679</td>\n",
       "      <td>0.909412</td>\n",
       "      <td>-0.689281</td>\n",
       "      <td>-0.327642</td>\n",
       "      <td>-0.139097</td>\n",
       "      <td>-0.055353</td>\n",
       "      <td>-0.059752</td>\n",
       "      <td>378.66</td>\n",
       "      <td>0</td>\n",
       "    </tr>\n",
       "    <tr>\n",
       "      <th>3</th>\n",
       "      <td>1.0</td>\n",
       "      <td>-0.966272</td>\n",
       "      <td>-0.185226</td>\n",
       "      <td>1.792993</td>\n",
       "      <td>-0.863291</td>\n",
       "      <td>-0.010309</td>\n",
       "      <td>1.247203</td>\n",
       "      <td>0.237609</td>\n",
       "      <td>0.377436</td>\n",
       "      <td>-1.387024</td>\n",
       "      <td>...</td>\n",
       "      <td>-0.108300</td>\n",
       "      <td>0.005274</td>\n",
       "      <td>-0.190321</td>\n",
       "      <td>-1.175575</td>\n",
       "      <td>0.647376</td>\n",
       "      <td>-0.221929</td>\n",
       "      <td>0.062723</td>\n",
       "      <td>0.061458</td>\n",
       "      <td>123.50</td>\n",
       "      <td>0</td>\n",
       "    </tr>\n",
       "    <tr>\n",
       "      <th>4</th>\n",
       "      <td>2.0</td>\n",
       "      <td>-1.158233</td>\n",
       "      <td>0.877737</td>\n",
       "      <td>1.548718</td>\n",
       "      <td>0.403034</td>\n",
       "      <td>-0.407193</td>\n",
       "      <td>0.095921</td>\n",
       "      <td>0.592941</td>\n",
       "      <td>-0.270533</td>\n",
       "      <td>0.817739</td>\n",
       "      <td>...</td>\n",
       "      <td>-0.009431</td>\n",
       "      <td>0.798278</td>\n",
       "      <td>-0.137458</td>\n",
       "      <td>0.141267</td>\n",
       "      <td>-0.206010</td>\n",
       "      <td>0.502292</td>\n",
       "      <td>0.219422</td>\n",
       "      <td>0.215153</td>\n",
       "      <td>69.99</td>\n",
       "      <td>0</td>\n",
       "    </tr>\n",
       "  </tbody>\n",
       "</table>\n",
       "<p>5 rows × 31 columns</p>\n",
       "</div>"
      ],
      "text/plain": [
       "   Time        V1        V2        V3        V4        V5        V6        V7  \\\n",
       "0   0.0 -1.359807 -0.072781  2.536347  1.378155 -0.338321  0.462388  0.239599   \n",
       "1   0.0  1.191857  0.266151  0.166480  0.448154  0.060018 -0.082361 -0.078803   \n",
       "2   1.0 -1.358354 -1.340163  1.773209  0.379780 -0.503198  1.800499  0.791461   \n",
       "3   1.0 -0.966272 -0.185226  1.792993 -0.863291 -0.010309  1.247203  0.237609   \n",
       "4   2.0 -1.158233  0.877737  1.548718  0.403034 -0.407193  0.095921  0.592941   \n",
       "\n",
       "         V8        V9  ...       V21       V22       V23       V24       V25  \\\n",
       "0  0.098698  0.363787  ... -0.018307  0.277838 -0.110474  0.066928  0.128539   \n",
       "1  0.085102 -0.255425  ... -0.225775 -0.638672  0.101288 -0.339846  0.167170   \n",
       "2  0.247676 -1.514654  ...  0.247998  0.771679  0.909412 -0.689281 -0.327642   \n",
       "3  0.377436 -1.387024  ... -0.108300  0.005274 -0.190321 -1.175575  0.647376   \n",
       "4 -0.270533  0.817739  ... -0.009431  0.798278 -0.137458  0.141267 -0.206010   \n",
       "\n",
       "        V26       V27       V28  Amount  Class  \n",
       "0 -0.189115  0.133558 -0.021053  149.62      0  \n",
       "1  0.125895 -0.008983  0.014724    2.69      0  \n",
       "2 -0.139097 -0.055353 -0.059752  378.66      0  \n",
       "3 -0.221929  0.062723  0.061458  123.50      0  \n",
       "4  0.502292  0.219422  0.215153   69.99      0  \n",
       "\n",
       "[5 rows x 31 columns]"
      ]
     },
     "execution_count": 3,
     "metadata": {},
     "output_type": "execute_result"
    }
   ],
   "source": [
    "df.head()"
   ]
  },
  {
   "cell_type": "code",
   "execution_count": 4,
   "id": "676b7ee3",
   "metadata": {},
   "outputs": [
    {
     "name": "stdout",
     "output_type": "stream",
     "text": [
      "Dataset Shape\n",
      "    rows:    284,807\n",
      "    columns: 31\n",
      "Classes unbalance in number\n",
      "    Non Fraud (0): 284,315\n",
      "    Fraud (1):     492\n",
      "Classes unbalance in percentage (%)\n",
      "    Non Fraud (0): 99.8273%\n",
      "    Fraud (1):     0.1727%\n",
      "\n"
     ]
    }
   ],
   "source": [
    "print(f'''Dataset Shape\n",
    "    rows:    {df.shape[0]:,}\n",
    "    columns: {df.shape[1]}\n",
    "Classes unbalance in number\n",
    "    Non Fraud (0): {df['Class'].value_counts()[0]:,}\n",
    "    Fraud (1):     {df['Class'].value_counts()[1]:,}\n",
    "Classes unbalance in percentage (%)\n",
    "    Non Fraud (0): {(df['Class'].value_counts() / df.shape[0] * 100)[0]:.4f}%\n",
    "    Fraud (1):     {(df['Class'].value_counts() / df.shape[0] * 100)[1]:.4f}%\n",
    "''')"
   ]
  },
  {
   "cell_type": "code",
   "execution_count": 5,
   "id": "28d8802c",
   "metadata": {},
   "outputs": [],
   "source": [
    "X, y = df.drop(columns=['Class']), df['Class']"
   ]
  },
  {
   "cell_type": "markdown",
   "id": "468cddc1",
   "metadata": {},
   "source": [
    "## Resampling"
   ]
  },
  {
   "cell_type": "code",
   "execution_count": 6,
   "id": "a13ba810",
   "metadata": {},
   "outputs": [],
   "source": [
    "# Define the resampling method\n",
    "method = SMOTE(\n",
    "    sampling_strategy='auto',\n",
    "    random_state=RANDOM_STATE,\n",
    "    k_neighbors=5,\n",
    "    n_jobs=-1,\n",
    ")\n",
    "X_resampled, y_resampled = method.fit_resample(X, y)"
   ]
  },
  {
   "cell_type": "code",
   "execution_count": 7,
   "id": "fe804447",
   "metadata": {},
   "outputs": [
    {
     "name": "stdout",
     "output_type": "stream",
     "text": [
      "X Shape\n",
      "    rows:    568,630\n",
      "    columns: 30\n",
      "\n",
      "y Shape\n",
      "    rows:    568,630\n",
      "\n",
      "Classes unbalance in number\n",
      "    Non Fraud (0): 284,315\n",
      "    Fraud (1):     284,315\n",
      "\n",
      "Classes unbalance in percentage (%)\n",
      "    Non Fraud (0): 99.8273%\n",
      "    Fraud (1):     99.8273%\n",
      "\n"
     ]
    }
   ],
   "source": [
    "print(f'''X Shape\n",
    "    rows:    {X_resampled.shape[0]:,}\n",
    "    columns: {X_resampled.shape[1]}\n",
    "''')\n",
    "print(f'''y Shape\n",
    "    rows:    {y_resampled.shape[0]:,}\n",
    "''')\n",
    "print(f'''Classes unbalance in number\n",
    "    Non Fraud (0): {y_resampled.value_counts()[0]:,}\n",
    "    Fraud (1):     {y_resampled.value_counts()[1]:,}\n",
    "''')\n",
    "print(f'''Classes unbalance in percentage (%)\n",
    "    Non Fraud (0): {(y_resampled.value_counts() / df.shape[0] * 100)[0]:.4f}%\n",
    "    Fraud (1):     {(y_resampled.value_counts() / df.shape[0] * 100)[1]:.4f}%\n",
    "''')"
   ]
  },
  {
   "cell_type": "markdown",
   "id": "8f2ade5f",
   "metadata": {},
   "source": [
    "## Split training and test data"
   ]
  },
  {
   "cell_type": "code",
   "execution_count": 8,
   "id": "14ad09ed",
   "metadata": {},
   "outputs": [],
   "source": [
    "X_train, X_test, y_train, y_test = train_test_split(X, y, test_size=TEST_SIZE, random_state=RANDOM_STATE)\n",
    "X_train_resampled, X_test_resampled, y_train_resampled, y_test_resampled = train_test_split(\n",
    "    X_resampled, y_resampled, test_size=TEST_SIZE, random_state=RANDOM_STATE)"
   ]
  },
  {
   "cell_type": "code",
   "execution_count": 9,
   "id": "6fcd0a1a",
   "metadata": {},
   "outputs": [
    {
     "name": "stdout",
     "output_type": "stream",
     "text": [
      "X_train / X_test Shape\n",
      "    rows:    213,605 / 71,202\n",
      "    columns: 30 / 30\n",
      "\n",
      "y_train / y_test Shape\n",
      "    rows:    213,605 / 71,202\n",
      "\n",
      "Classes unbalance in number for y_train / y_test\n",
      "    Non Fraud (0): 213,226 / 71,089\n",
      "    Fraud (1):     379 / 113\n",
      "\n",
      "Classes unbalance in percentage (%) for y_train / y_test\n",
      "    Non Fraud (0): 74.8668% / 24.9604%\n",
      "    Fraud (1):     0.1331% / 0.0397%\n",
      "\n"
     ]
    }
   ],
   "source": [
    "## non-resampled data split\n",
    "print(f'''X_train / X_test Shape\n",
    "    rows:    {X_train.shape[0]:,} / {X_test.shape[0]:,}\n",
    "    columns: {X_train.shape[1]} / {X_test.shape[1]}\n",
    "''')\n",
    "print(f'''y_train / y_test Shape\n",
    "    rows:    {y_train.shape[0]:,} / {y_test.shape[0]:,}\n",
    "''')\n",
    "print(f'''Classes unbalance in number for y_train / y_test\n",
    "    Non Fraud (0): {y_train.value_counts()[0]:,} / {y_test.value_counts()[0]:,}\n",
    "    Fraud (1):     {y_train.value_counts()[1]:,} / {y_test.value_counts()[1]:,}\n",
    "''')\n",
    "print(f'''Classes unbalance in percentage (%) for y_train / y_test\n",
    "    Non Fraud (0): {(y_train.value_counts() / df.shape[0] * 100)[0]:.4f}% / {(y_test.value_counts() / df.shape[0] * 100)[0]:.4f}%\n",
    "    Fraud (1):     {(y_train.value_counts() / df.shape[0] * 100)[1]:.4f}% / {(y_test.value_counts() / df.shape[0] * 100)[1]:.4f}%\n",
    "''')"
   ]
  },
  {
   "cell_type": "code",
   "execution_count": 10,
   "id": "bf096f56",
   "metadata": {},
   "outputs": [
    {
     "name": "stdout",
     "output_type": "stream",
     "text": [
      "X_train_resampled / X_test_resampled Shape\n",
      "    rows:    426,472 / 142,158\n",
      "    columns: 30 / 30\n",
      "\n",
      "y_train_resampled / y_test_resampled Shape\n",
      "    rows:    426,472 / 142,158\n",
      "\n",
      "Classes unbalance in number for y_train_resampled / y_test_resampled\n",
      "    Non Fraud (0): 213,292 / 71,023\n",
      "    Fraud (1):     213,180 / 71,135\n",
      "\n",
      "Classes unbalance in percentage (%) for y_train_resampled / y_test_resampled\n",
      "    Non Fraud (0): 74.8900% / 24.9372%\n",
      "    Fraud (1):     74.8507% / 24.9766%\n",
      "\n"
     ]
    }
   ],
   "source": [
    "## resampled data split\n",
    "print(f'''X_train_resampled / X_test_resampled Shape\n",
    "    rows:    {X_train_resampled.shape[0]:,} / {X_test_resampled.shape[0]:,}\n",
    "    columns: {X_train_resampled.shape[1]} / {X_test_resampled.shape[1]}\n",
    "''')\n",
    "print(f'''y_train_resampled / y_test_resampled Shape\n",
    "    rows:    {y_train_resampled.shape[0]:,} / {y_test_resampled.shape[0]:,}\n",
    "''')\n",
    "print(f'''Classes unbalance in number for y_train_resampled / y_test_resampled\n",
    "    Non Fraud (0): {y_train_resampled.value_counts()[0]:,} / {y_test_resampled.value_counts()[0]:,}\n",
    "    Fraud (1):     {y_train_resampled.value_counts()[1]:,} / {y_test_resampled.value_counts()[1]:,}\n",
    "''')\n",
    "print(f'''Classes unbalance in percentage (%) for y_train_resampled / y_test_resampled\n",
    "    Non Fraud (0): {(y_train_resampled.value_counts() / df.shape[0] * 100)[0]:.4f}% / {(y_test_resampled.value_counts() / df.shape[0] * 100)[0]:.4f}%\n",
    "    Fraud (1):     {(y_train_resampled.value_counts() / df.shape[0] * 100)[1]:.4f}% / {(y_test_resampled.value_counts() / df.shape[0] * 100)[1]:.4f}%\n",
    "''')"
   ]
  },
  {
   "cell_type": "markdown",
   "id": "d59c8c4e",
   "metadata": {},
   "source": [
    "## ML models"
   ]
  },
  {
   "cell_type": "code",
   "execution_count": 11,
   "id": "6c4a1660",
   "metadata": {},
   "outputs": [],
   "source": [
    "lr = LogisticRegression(random_state=RANDOM_STATE,max_iter=1000, n_jobs=-1)\\\n",
    "    .fit(X_train, y_train)\n",
    "y_pred = lr.predict(X_test)"
   ]
  },
  {
   "cell_type": "code",
   "execution_count": 12,
   "id": "e0621c24",
   "metadata": {},
   "outputs": [
    {
     "data": {
      "text/plain": [
       "{'f_score': 0.6421052631578946,\n",
       " 'recall': 0.5398230088495575,\n",
       " 'precision': 0.7922077922077922,\n",
       " 'g_mean': 0.6539510639364963,\n",
       " 'roc_auc_score': 0.7697989694334297}"
      ]
     },
     "execution_count": 12,
     "metadata": {},
     "output_type": "execute_result"
    }
   ],
   "source": [
    "metrics = {}\n",
    "metrics['f_score'] = f1_score(y_test, y_pred)\n",
    "metrics['recall'] = recall_score(y_test, y_pred)\n",
    "metrics['precision'] = precision_score(y_test, y_pred)\n",
    "metrics['g_mean'] = np.sqrt(metrics['recall'] * metrics['precision'])\n",
    "metrics['roc_auc_score'] = roc_auc_score(y_test, y_pred)\n",
    "\n",
    "metrics"
   ]
  },
  {
   "cell_type": "code",
   "execution_count": 13,
   "id": "7efc8705",
   "metadata": {},
   "outputs": [],
   "source": [
    "lr_resampled = LogisticRegression(random_state=RANDOM_STATE,max_iter=1000, n_jobs=-1)\\\n",
    "    .fit(X_train_resampled, y_train_resampled)\n",
    "y_pred_resampled = lr_resampled.predict(X_test_resampled)"
   ]
  },
  {
   "cell_type": "code",
   "execution_count": 14,
   "id": "b436a44d",
   "metadata": {},
   "outputs": [
    {
     "data": {
      "text/plain": [
       "{'f_score': 0.9735067881322889,\n",
       " 'recall': 0.9651929429957123,\n",
       " 'precision': 0.9819651029748284,\n",
       " 'g_mean': 0.9735429048888202,\n",
       " 'roc_auc_score': 0.9737190655870948}"
      ]
     },
     "execution_count": 14,
     "metadata": {},
     "output_type": "execute_result"
    }
   ],
   "source": [
    "metrics_resampled = {}\n",
    "metrics_resampled['f_score'] = f1_score(y_test_resampled, y_pred_resampled)\n",
    "metrics_resampled['recall'] = recall_score(y_test_resampled, y_pred_resampled)\n",
    "metrics_resampled['precision'] = precision_score(y_test_resampled, y_pred_resampled)\n",
    "metrics_resampled['g_mean'] = np.sqrt(metrics_resampled['recall'] * metrics_resampled['precision'])\n",
    "metrics_resampled['roc_auc_score'] = roc_auc_score(y_test_resampled, y_pred_resampled)\n",
    "\n",
    "metrics_resampled"
   ]
  }
 ],
 "metadata": {
  "kernelspec": {
   "display_name": "Python [conda env:ml] *",
   "language": "python",
   "name": "conda-env-ml-py"
  },
  "language_info": {
   "codemirror_mode": {
    "name": "ipython",
    "version": 3
   },
   "file_extension": ".py",
   "mimetype": "text/x-python",
   "name": "python",
   "nbconvert_exporter": "python",
   "pygments_lexer": "ipython3",
   "version": "3.9.7"
  }
 },
 "nbformat": 4,
 "nbformat_minor": 5
}
