{
 "cells": [
  {
   "cell_type": "code",
   "execution_count": 1,
   "metadata": {
    "id": "rbtXqmVMHnGy"
   },
   "outputs": [],
   "source": [
    "import numpy as np\n",
    "import pandas as pd\n",
    "\n",
    "from sklearn.model_selection import (train_test_split, RepeatedStratifiedKFold, \n",
    "                                     GridSearchCV)\n",
    "from sklearn.linear_model import LogisticRegression\n",
    "from sklearn.metrics import (f1_score, precision_score, recall_score, \n",
    "                             roc_auc_score)\n",
    "\n",
    "from imblearn.over_sampling import RandomOverSampler\n",
    "\n",
    "from utils import get_data_metrics, get_model_metrics, sort_model_metrics, get_model_metric_comparison"
   ]
  },
  {
   "cell_type": "code",
   "execution_count": 2,
   "metadata": {
    "colab": {
     "base_uri": "https://localhost:8080/"
    },
    "id": "Og70b4ygzjmN",
    "outputId": "93616f7b-2843-4f8c-a11e-fe8f37053c21"
   },
   "outputs": [],
   "source": [
    "## Globals\n",
    "RANDOM_STATE = 42\n",
    "TEST_SIZE = 0.33\n",
    "\n",
    "if 'google.colab' in str(get_ipython()):\n",
    "  from google.colab import drive\n",
    "  drive.mount('/content/drive')\n",
    "  data_path = 'drive/MyDrive/BigDataMaster/TFM/data/creditcard.csv'\n",
    "else:\n",
    "  data_path = '../../data/creditcard.csv'"
   ]
  },
  {
   "cell_type": "code",
   "execution_count": 3,
   "metadata": {
    "colab": {
     "base_uri": "https://localhost:8080/",
     "height": 299
    },
    "id": "xGUoJ3YKG4SM",
    "outputId": "10331108-4c3e-413a-89f9-d772b0f69ac0"
   },
   "outputs": [
    {
     "data": {
      "text/html": [
       "<div>\n",
       "<style scoped>\n",
       "    .dataframe tbody tr th:only-of-type {\n",
       "        vertical-align: middle;\n",
       "    }\n",
       "\n",
       "    .dataframe tbody tr th {\n",
       "        vertical-align: top;\n",
       "    }\n",
       "\n",
       "    .dataframe thead th {\n",
       "        text-align: right;\n",
       "    }\n",
       "</style>\n",
       "<table border=\"1\" class=\"dataframe\">\n",
       "  <thead>\n",
       "    <tr style=\"text-align: right;\">\n",
       "      <th></th>\n",
       "      <th>Time</th>\n",
       "      <th>V1</th>\n",
       "      <th>V2</th>\n",
       "      <th>V3</th>\n",
       "      <th>V4</th>\n",
       "      <th>V5</th>\n",
       "      <th>V6</th>\n",
       "      <th>V7</th>\n",
       "      <th>V8</th>\n",
       "      <th>V9</th>\n",
       "      <th>...</th>\n",
       "      <th>V21</th>\n",
       "      <th>V22</th>\n",
       "      <th>V23</th>\n",
       "      <th>V24</th>\n",
       "      <th>V25</th>\n",
       "      <th>V26</th>\n",
       "      <th>V27</th>\n",
       "      <th>V28</th>\n",
       "      <th>Amount</th>\n",
       "      <th>Class</th>\n",
       "    </tr>\n",
       "  </thead>\n",
       "  <tbody>\n",
       "    <tr>\n",
       "      <th>0</th>\n",
       "      <td>0.0</td>\n",
       "      <td>-1.359807</td>\n",
       "      <td>-0.072781</td>\n",
       "      <td>2.536347</td>\n",
       "      <td>1.378155</td>\n",
       "      <td>-0.338321</td>\n",
       "      <td>0.462388</td>\n",
       "      <td>0.239599</td>\n",
       "      <td>0.098698</td>\n",
       "      <td>0.363787</td>\n",
       "      <td>...</td>\n",
       "      <td>-0.018307</td>\n",
       "      <td>0.277838</td>\n",
       "      <td>-0.110474</td>\n",
       "      <td>0.066928</td>\n",
       "      <td>0.128539</td>\n",
       "      <td>-0.189115</td>\n",
       "      <td>0.133558</td>\n",
       "      <td>-0.021053</td>\n",
       "      <td>149.62</td>\n",
       "      <td>0</td>\n",
       "    </tr>\n",
       "    <tr>\n",
       "      <th>1</th>\n",
       "      <td>0.0</td>\n",
       "      <td>1.191857</td>\n",
       "      <td>0.266151</td>\n",
       "      <td>0.166480</td>\n",
       "      <td>0.448154</td>\n",
       "      <td>0.060018</td>\n",
       "      <td>-0.082361</td>\n",
       "      <td>-0.078803</td>\n",
       "      <td>0.085102</td>\n",
       "      <td>-0.255425</td>\n",
       "      <td>...</td>\n",
       "      <td>-0.225775</td>\n",
       "      <td>-0.638672</td>\n",
       "      <td>0.101288</td>\n",
       "      <td>-0.339846</td>\n",
       "      <td>0.167170</td>\n",
       "      <td>0.125895</td>\n",
       "      <td>-0.008983</td>\n",
       "      <td>0.014724</td>\n",
       "      <td>2.69</td>\n",
       "      <td>0</td>\n",
       "    </tr>\n",
       "    <tr>\n",
       "      <th>2</th>\n",
       "      <td>1.0</td>\n",
       "      <td>-1.358354</td>\n",
       "      <td>-1.340163</td>\n",
       "      <td>1.773209</td>\n",
       "      <td>0.379780</td>\n",
       "      <td>-0.503198</td>\n",
       "      <td>1.800499</td>\n",
       "      <td>0.791461</td>\n",
       "      <td>0.247676</td>\n",
       "      <td>-1.514654</td>\n",
       "      <td>...</td>\n",
       "      <td>0.247998</td>\n",
       "      <td>0.771679</td>\n",
       "      <td>0.909412</td>\n",
       "      <td>-0.689281</td>\n",
       "      <td>-0.327642</td>\n",
       "      <td>-0.139097</td>\n",
       "      <td>-0.055353</td>\n",
       "      <td>-0.059752</td>\n",
       "      <td>378.66</td>\n",
       "      <td>0</td>\n",
       "    </tr>\n",
       "    <tr>\n",
       "      <th>3</th>\n",
       "      <td>1.0</td>\n",
       "      <td>-0.966272</td>\n",
       "      <td>-0.185226</td>\n",
       "      <td>1.792993</td>\n",
       "      <td>-0.863291</td>\n",
       "      <td>-0.010309</td>\n",
       "      <td>1.247203</td>\n",
       "      <td>0.237609</td>\n",
       "      <td>0.377436</td>\n",
       "      <td>-1.387024</td>\n",
       "      <td>...</td>\n",
       "      <td>-0.108300</td>\n",
       "      <td>0.005274</td>\n",
       "      <td>-0.190321</td>\n",
       "      <td>-1.175575</td>\n",
       "      <td>0.647376</td>\n",
       "      <td>-0.221929</td>\n",
       "      <td>0.062723</td>\n",
       "      <td>0.061458</td>\n",
       "      <td>123.50</td>\n",
       "      <td>0</td>\n",
       "    </tr>\n",
       "    <tr>\n",
       "      <th>4</th>\n",
       "      <td>2.0</td>\n",
       "      <td>-1.158233</td>\n",
       "      <td>0.877737</td>\n",
       "      <td>1.548718</td>\n",
       "      <td>0.403034</td>\n",
       "      <td>-0.407193</td>\n",
       "      <td>0.095921</td>\n",
       "      <td>0.592941</td>\n",
       "      <td>-0.270533</td>\n",
       "      <td>0.817739</td>\n",
       "      <td>...</td>\n",
       "      <td>-0.009431</td>\n",
       "      <td>0.798278</td>\n",
       "      <td>-0.137458</td>\n",
       "      <td>0.141267</td>\n",
       "      <td>-0.206010</td>\n",
       "      <td>0.502292</td>\n",
       "      <td>0.219422</td>\n",
       "      <td>0.215153</td>\n",
       "      <td>69.99</td>\n",
       "      <td>0</td>\n",
       "    </tr>\n",
       "  </tbody>\n",
       "</table>\n",
       "<p>5 rows × 31 columns</p>\n",
       "</div>"
      ],
      "text/plain": [
       "   Time        V1        V2        V3        V4        V5        V6        V7  \\\n",
       "0   0.0 -1.359807 -0.072781  2.536347  1.378155 -0.338321  0.462388  0.239599   \n",
       "1   0.0  1.191857  0.266151  0.166480  0.448154  0.060018 -0.082361 -0.078803   \n",
       "2   1.0 -1.358354 -1.340163  1.773209  0.379780 -0.503198  1.800499  0.791461   \n",
       "3   1.0 -0.966272 -0.185226  1.792993 -0.863291 -0.010309  1.247203  0.237609   \n",
       "4   2.0 -1.158233  0.877737  1.548718  0.403034 -0.407193  0.095921  0.592941   \n",
       "\n",
       "         V8        V9  ...       V21       V22       V23       V24       V25  \\\n",
       "0  0.098698  0.363787  ... -0.018307  0.277838 -0.110474  0.066928  0.128539   \n",
       "1  0.085102 -0.255425  ... -0.225775 -0.638672  0.101288 -0.339846  0.167170   \n",
       "2  0.247676 -1.514654  ...  0.247998  0.771679  0.909412 -0.689281 -0.327642   \n",
       "3  0.377436 -1.387024  ... -0.108300  0.005274 -0.190321 -1.175575  0.647376   \n",
       "4 -0.270533  0.817739  ... -0.009431  0.798278 -0.137458  0.141267 -0.206010   \n",
       "\n",
       "        V26       V27       V28  Amount  Class  \n",
       "0 -0.189115  0.133558 -0.021053  149.62      0  \n",
       "1  0.125895 -0.008983  0.014724    2.69      0  \n",
       "2 -0.139097 -0.055353 -0.059752  378.66      0  \n",
       "3 -0.221929  0.062723  0.061458  123.50      0  \n",
       "4  0.502292  0.219422  0.215153   69.99      0  \n",
       "\n",
       "[5 rows x 31 columns]"
      ]
     },
     "execution_count": 3,
     "metadata": {},
     "output_type": "execute_result"
    }
   ],
   "source": [
    "df = pd.read_csv(data_path)\n",
    "df.head()"
   ]
  },
  {
   "cell_type": "code",
   "execution_count": 4,
   "metadata": {
    "id": "Yl1zG-TSIqlF"
   },
   "outputs": [],
   "source": [
    "X, y = df.drop(columns=['Class']), df['Class']"
   ]
  },
  {
   "cell_type": "code",
   "execution_count": 5,
   "metadata": {
    "colab": {
     "base_uri": "https://localhost:8080/"
    },
    "id": "6Vx3oM7wK1pP",
    "outputId": "b075a374-738f-46e1-b7d4-7bb59dc5ac97"
   },
   "outputs": [
    {
     "name": "stdout",
     "output_type": "stream",
     "text": [
      "Dataset Shape\n",
      "    rows:    284,807\n",
      "    columns: 31\n",
      "Classes unbalance in number\n",
      "    Non Fraud (0): 284,315\n",
      "    Fraud (1):     492\n",
      "Classes unbalance in percentage (%)\n",
      "    Non Fraud (0): 99.8273%\n",
      "    Fraud (1):     0.1727%\n",
      "\n"
     ]
    }
   ],
   "source": [
    "## before resampling\n",
    "print(f'''Dataset Shape\n",
    "    rows:    {df.shape[0]:,}\n",
    "    columns: {df.shape[1]}\n",
    "Classes unbalance in number\n",
    "    Non Fraud (0): {df['Class'].value_counts()[0]:,}\n",
    "    Fraud (1):     {df['Class'].value_counts()[1]:,}\n",
    "Classes unbalance in percentage (%)\n",
    "    Non Fraud (0): {(df['Class'].value_counts() / df.shape[0] * 100)[0]:.4f}%\n",
    "    Fraud (1):     {(df['Class'].value_counts() / df.shape[0] * 100)[1]:.4f}%\n",
    "''')"
   ]
  },
  {
   "cell_type": "code",
   "execution_count": 6,
   "metadata": {
    "id": "RM-vY_YVJiIp"
   },
   "outputs": [],
   "source": [
    "ros = RandomOverSampler(random_state=RANDOM_STATE)\n",
    "X_resampled, y_resampled = ros.fit_resample(X, y)"
   ]
  },
  {
   "cell_type": "code",
   "execution_count": 7,
   "metadata": {
    "colab": {
     "base_uri": "https://localhost:8080/"
    },
    "id": "z3lkK8t9KEbj",
    "outputId": "4a14818e-b217-4e52-d7a6-ce0fcd44783e"
   },
   "outputs": [
    {
     "data": {
      "text/plain": [
       "[{'class': 0,\n",
       "  'count': 284315,\n",
       "  'percent': 0.5,\n",
       "  'subset': 'main',\n",
       "  'is_resampled': False,\n",
       "  'res_method': ''},\n",
       " {'class': 1,\n",
       "  'count': 284315,\n",
       "  'percent': 0.5,\n",
       "  'subset': 'main',\n",
       "  'is_resampled': False,\n",
       "  'res_method': ''}]"
      ]
     },
     "execution_count": 7,
     "metadata": {},
     "output_type": "execute_result"
    }
   ],
   "source": [
    "## after resampling\n",
    "get_data_metrics(y_resampled, 'main')"
   ]
  },
  {
   "cell_type": "code",
   "execution_count": 8,
   "metadata": {
    "id": "NqioW_IRLT5b"
   },
   "outputs": [],
   "source": [
    "X_train, X_test, y_train, y_test = train_test_split(\n",
    "    X, y, test_size=TEST_SIZE, random_state=RANDOM_STATE)"
   ]
  },
  {
   "cell_type": "code",
   "execution_count": 9,
   "metadata": {
    "colab": {
     "base_uri": "https://localhost:8080/"
    },
    "id": "7qH5ZwurLujd",
    "outputId": "532610f5-26b8-4bd9-8537-af6c4cfd735e"
   },
   "outputs": [
    {
     "data": {
      "text/plain": [
       "([{'class': 0,\n",
       "   'count': 190477,\n",
       "   'percent': 0.9982024944974321,\n",
       "   'subset': 'train',\n",
       "   'is_resampled': False,\n",
       "   'res_method': ''},\n",
       "  {'class': 1,\n",
       "   'count': 343,\n",
       "   'percent': 0.001797505502567865,\n",
       "   'subset': 'train',\n",
       "   'is_resampled': False,\n",
       "   'res_method': ''}],\n",
       " [{'class': 1,\n",
       "   'count': 149,\n",
       "   'percent': 0.0015853256301403386,\n",
       "   'subset': 'test',\n",
       "   'is_resampled': False,\n",
       "   'res_method': ''},\n",
       "  {'class': 0,\n",
       "   'count': 93838,\n",
       "   'percent': 0.9984146743698596,\n",
       "   'subset': 'test',\n",
       "   'is_resampled': False,\n",
       "   'res_method': ''}])"
      ]
     },
     "execution_count": 9,
     "metadata": {},
     "output_type": "execute_result"
    }
   ],
   "source": [
    "get_data_metrics(y_train, 'train'), get_data_metrics(y_test, 'test')"
   ]
  },
  {
   "cell_type": "code",
   "execution_count": 10,
   "metadata": {
    "colab": {
     "base_uri": "https://localhost:8080/"
    },
    "id": "U7FrUV1LKEed",
    "outputId": "8194221e-9fd7-4a39-cf87-7e172bc4180c"
   },
   "outputs": [
    {
     "data": {
      "text/plain": [
       "[('precision', 0.8411214953271028),\n",
       " ('roc_auc_score', 0.801922841178092),\n",
       " ('g_mean', 0.7127832515010419),\n",
       " ('f_score', 0.7031249999999999),\n",
       " ('recall', 0.6040268456375839)]"
      ]
     },
     "execution_count": 10,
     "metadata": {},
     "output_type": "execute_result"
    }
   ],
   "source": [
    "lr = LogisticRegression(random_state=RANDOM_STATE,max_iter=1000, n_jobs=-1)\\\n",
    "    .fit(X_train, y_train)\n",
    "y_pred = lr.predict(X_test)\n",
    "\n",
    "metrics = {}\n",
    "metrics['f_score'] = f1_score(y_test, y_pred)\n",
    "metrics['recall'] = recall_score(y_test, y_pred)\n",
    "metrics['precision'] = precision_score(y_test, y_pred)\n",
    "metrics['g_mean'] = np.sqrt(metrics['recall'] * metrics['precision'])\n",
    "metrics['roc_auc_score'] = roc_auc_score(y_test, y_pred)\n",
    "\n",
    "sort_model_metrics(metrics)"
   ]
  },
  {
   "cell_type": "code",
   "execution_count": 11,
   "metadata": {
    "id": "Tcf9998YKEhN"
   },
   "outputs": [],
   "source": [
    "X_train_resampled, X_test_resampled, y_train_resampled, y_test_resampled = train_test_split(\n",
    "    X_resampled, y_resampled, test_size=TEST_SIZE, random_state=RANDOM_STATE)"
   ]
  },
  {
   "cell_type": "code",
   "execution_count": 12,
   "metadata": {
    "colab": {
     "base_uri": "https://localhost:8080/"
    },
    "id": "xkGLxDjzKEkG",
    "outputId": "75c62cdd-123d-4be3-aa9f-d0e11a6f1562"
   },
   "outputs": [
    {
     "data": {
      "text/plain": [
       "([{'class': 0,\n",
       "   'count': 190540,\n",
       "   'percent': 0.5001286150001837,\n",
       "   'subset': 'train',\n",
       "   'is_resampled': False,\n",
       "   'res_method': ''},\n",
       "  {'class': 1,\n",
       "   'count': 190442,\n",
       "   'percent': 0.49987138499981626,\n",
       "   'subset': 'train',\n",
       "   'is_resampled': False,\n",
       "   'res_method': ''}],\n",
       " [{'class': 0,\n",
       "   'count': 93873,\n",
       "   'percent': 0.5002611272169167,\n",
       "   'subset': 'test',\n",
       "   'is_resampled': False,\n",
       "   'res_method': ''},\n",
       "  {'class': 1,\n",
       "   'count': 93775,\n",
       "   'percent': 0.4997388727830832,\n",
       "   'subset': 'test',\n",
       "   'is_resampled': False,\n",
       "   'res_method': ''}])"
      ]
     },
     "execution_count": 12,
     "metadata": {},
     "output_type": "execute_result"
    }
   ],
   "source": [
    "get_data_metrics(y_train_resampled, 'train'), get_data_metrics(y_test_resampled, 'test')"
   ]
  },
  {
   "cell_type": "code",
   "execution_count": 13,
   "metadata": {
    "colab": {
     "base_uri": "https://localhost:8080/"
    },
    "id": "guq6E3YfKEmv",
    "outputId": "f45d797f-8c02-4348-b47a-b9b3d58d4b54"
   },
   "outputs": [
    {
     "data": {
      "text/plain": [
       "[('precision', 0.9629558778849292),\n",
       " ('roc_auc_score', 0.9382493351660505),\n",
       " ('g_mean', 0.9369281757914609),\n",
       " ('f_score', 0.9365765568567364),\n",
       " ('recall', 0.9116039755840337)]"
      ]
     },
     "execution_count": 13,
     "metadata": {},
     "output_type": "execute_result"
    }
   ],
   "source": [
    "lr_resampled = LogisticRegression(random_state=RANDOM_STATE, max_iter=1000, n_jobs=-1)\\\n",
    "    .fit(X_train_resampled, y_train_resampled)\n",
    "y_pred_resampled = lr_resampled.predict(X_test_resampled)\n",
    "\n",
    "metrics_resampled = {}\n",
    "metrics_resampled['f_score'] = f1_score(y_test_resampled, y_pred_resampled)\n",
    "metrics_resampled['recall'] = recall_score(y_test_resampled, y_pred_resampled)\n",
    "metrics_resampled['precision'] = precision_score(y_test_resampled, y_pred_resampled)\n",
    "metrics_resampled['g_mean'] = np.sqrt(metrics_resampled['recall'] * metrics_resampled['precision'])\n",
    "metrics_resampled['roc_auc_score'] = roc_auc_score(y_test_resampled, y_pred_resampled)\n",
    "\n",
    "sort_model_metrics(metrics_resampled)"
   ]
  },
  {
   "cell_type": "code",
   "execution_count": 14,
   "metadata": {
    "colab": {
     "base_uri": "https://localhost:8080/"
    },
    "id": "h6o6yXu6TZFH",
    "outputId": "1a36a013-1cf6-4555-adb5-22ab5cf8b1a8"
   },
   "outputs": [
    {
     "data": {
      "text/plain": [
       "{'precision': {'basic_points': 0.12183438255782642,\n",
       "  'percentage': 0.14484754370763808},\n",
       " 'roc_auc_score': {'basic_points': 0.13632649398795849,\n",
       "  'percentage': 0.16999951490056503},\n",
       " 'g_mean': {'basic_points': 0.224144924290419,\n",
       "  'percentage': 0.3144643533898907},\n",
       " 'f_score': {'basic_points': 0.23345155685673646,\n",
       "  'percentage': 0.33201999197402526},\n",
       " 'recall': {'basic_points': 0.3075771299464498,\n",
       "  'percentage': 0.509211026244678}}"
      ]
     },
     "execution_count": 14,
     "metadata": {},
     "output_type": "execute_result"
    }
   ],
   "source": [
    "get_model_metric_comparison(metrics, metrics_resampled)"
   ]
  }
 ],
 "metadata": {
  "colab": {
   "collapsed_sections": [],
   "name": "ros_experiment.ipynb",
   "provenance": []
  },
  "kernelspec": {
   "display_name": "Python [conda env:ml]",
   "language": "python",
   "name": "conda-env-ml-py"
  },
  "language_info": {
   "codemirror_mode": {
    "name": "ipython",
    "version": 3
   },
   "file_extension": ".py",
   "mimetype": "text/x-python",
   "name": "python",
   "nbconvert_exporter": "python",
   "pygments_lexer": "ipython3",
   "version": "3.9.7"
  }
 },
 "nbformat": 4,
 "nbformat_minor": 1
}
