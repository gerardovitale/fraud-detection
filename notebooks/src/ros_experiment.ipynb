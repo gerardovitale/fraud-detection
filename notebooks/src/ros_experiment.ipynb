{
 "cells": [
  {
   "cell_type": "code",
   "execution_count": 1,
   "metadata": {
    "id": "rbtXqmVMHnGy"
   },
   "outputs": [],
   "source": [
    "import os\n",
    "\n",
    "import numpy as np\n",
    "import pandas as pd\n",
    "import matplotlib.pyplot as plt\n",
    "import seaborn as sns\n",
    "plt.style.use('seaborn')\n",
    "\n",
    "from sklearn.model_selection import train_test_split, RepeatedStratifiedKFold, GridSearchCV\n",
    "from sklearn.linear_model import LogisticRegression\n",
    "from sklearn.metrics import f1_score, precision_score, recall_score, roc_auc_score\n",
    "\n",
    "from imblearn.over_sampling import RandomOverSampler\n",
    "\n",
    "from metric_utils import get_data_metrics, get_model_metrics, sort_model_metrics, get_model_metric_comparison"
   ]
  },
  {
   "cell_type": "code",
   "execution_count": 2,
   "metadata": {
    "colab": {
     "base_uri": "https://localhost:8080/"
    },
    "id": "Og70b4ygzjmN",
    "outputId": "93616f7b-2843-4f8c-a11e-fe8f37053c21"
   },
   "outputs": [],
   "source": [
    "## Globals\n",
    "COLORS = sns.palettes.color_palette('colorblind')\n",
    "RANDOM_STATE = 42\n",
    "TEST_SIZE = 0.33\n",
    "ITER = 2500\n",
    "N_JOBS = -1\n",
    "\n",
    "if 'google.colab' in str(get_ipython()):\n",
    "  from google.colab import drive\n",
    "  drive.mount('/content/drive')\n",
    "  data_path = 'drive/MyDrive/BigDataMaster/TFM/data/creditcard.csv'\n",
    "elif os.getenv('CONTAINER_BASE_DIR'):\n",
    "  data_path = '../data/creditcard.csv'  \n",
    "else:\n",
    "  data_path = '../../data/creditcard.csv'"
   ]
  },
  {
   "cell_type": "code",
   "execution_count": 3,
   "metadata": {
    "colab": {
     "base_uri": "https://localhost:8080/",
     "height": 299
    },
    "id": "xGUoJ3YKG4SM",
    "outputId": "10331108-4c3e-413a-89f9-d772b0f69ac0"
   },
   "outputs": [
    {
     "data": {
      "text/html": [
       "<div>\n",
       "<style scoped>\n",
       "    .dataframe tbody tr th:only-of-type {\n",
       "        vertical-align: middle;\n",
       "    }\n",
       "\n",
       "    .dataframe tbody tr th {\n",
       "        vertical-align: top;\n",
       "    }\n",
       "\n",
       "    .dataframe thead th {\n",
       "        text-align: right;\n",
       "    }\n",
       "</style>\n",
       "<table border=\"1\" class=\"dataframe\">\n",
       "  <thead>\n",
       "    <tr style=\"text-align: right;\">\n",
       "      <th></th>\n",
       "      <th>Time</th>\n",
       "      <th>V1</th>\n",
       "      <th>V2</th>\n",
       "      <th>V3</th>\n",
       "      <th>V4</th>\n",
       "      <th>V5</th>\n",
       "      <th>V6</th>\n",
       "      <th>V7</th>\n",
       "      <th>V8</th>\n",
       "      <th>V9</th>\n",
       "      <th>...</th>\n",
       "      <th>V21</th>\n",
       "      <th>V22</th>\n",
       "      <th>V23</th>\n",
       "      <th>V24</th>\n",
       "      <th>V25</th>\n",
       "      <th>V26</th>\n",
       "      <th>V27</th>\n",
       "      <th>V28</th>\n",
       "      <th>Amount</th>\n",
       "      <th>Class</th>\n",
       "    </tr>\n",
       "  </thead>\n",
       "  <tbody>\n",
       "    <tr>\n",
       "      <th>0</th>\n",
       "      <td>0.0</td>\n",
       "      <td>-1.359807</td>\n",
       "      <td>-0.072781</td>\n",
       "      <td>2.536347</td>\n",
       "      <td>1.378155</td>\n",
       "      <td>-0.338321</td>\n",
       "      <td>0.462388</td>\n",
       "      <td>0.239599</td>\n",
       "      <td>0.098698</td>\n",
       "      <td>0.363787</td>\n",
       "      <td>...</td>\n",
       "      <td>-0.018307</td>\n",
       "      <td>0.277838</td>\n",
       "      <td>-0.110474</td>\n",
       "      <td>0.066928</td>\n",
       "      <td>0.128539</td>\n",
       "      <td>-0.189115</td>\n",
       "      <td>0.133558</td>\n",
       "      <td>-0.021053</td>\n",
       "      <td>149.62</td>\n",
       "      <td>0</td>\n",
       "    </tr>\n",
       "    <tr>\n",
       "      <th>1</th>\n",
       "      <td>0.0</td>\n",
       "      <td>1.191857</td>\n",
       "      <td>0.266151</td>\n",
       "      <td>0.166480</td>\n",
       "      <td>0.448154</td>\n",
       "      <td>0.060018</td>\n",
       "      <td>-0.082361</td>\n",
       "      <td>-0.078803</td>\n",
       "      <td>0.085102</td>\n",
       "      <td>-0.255425</td>\n",
       "      <td>...</td>\n",
       "      <td>-0.225775</td>\n",
       "      <td>-0.638672</td>\n",
       "      <td>0.101288</td>\n",
       "      <td>-0.339846</td>\n",
       "      <td>0.167170</td>\n",
       "      <td>0.125895</td>\n",
       "      <td>-0.008983</td>\n",
       "      <td>0.014724</td>\n",
       "      <td>2.69</td>\n",
       "      <td>0</td>\n",
       "    </tr>\n",
       "    <tr>\n",
       "      <th>2</th>\n",
       "      <td>1.0</td>\n",
       "      <td>-1.358354</td>\n",
       "      <td>-1.340163</td>\n",
       "      <td>1.773209</td>\n",
       "      <td>0.379780</td>\n",
       "      <td>-0.503198</td>\n",
       "      <td>1.800499</td>\n",
       "      <td>0.791461</td>\n",
       "      <td>0.247676</td>\n",
       "      <td>-1.514654</td>\n",
       "      <td>...</td>\n",
       "      <td>0.247998</td>\n",
       "      <td>0.771679</td>\n",
       "      <td>0.909412</td>\n",
       "      <td>-0.689281</td>\n",
       "      <td>-0.327642</td>\n",
       "      <td>-0.139097</td>\n",
       "      <td>-0.055353</td>\n",
       "      <td>-0.059752</td>\n",
       "      <td>378.66</td>\n",
       "      <td>0</td>\n",
       "    </tr>\n",
       "    <tr>\n",
       "      <th>3</th>\n",
       "      <td>1.0</td>\n",
       "      <td>-0.966272</td>\n",
       "      <td>-0.185226</td>\n",
       "      <td>1.792993</td>\n",
       "      <td>-0.863291</td>\n",
       "      <td>-0.010309</td>\n",
       "      <td>1.247203</td>\n",
       "      <td>0.237609</td>\n",
       "      <td>0.377436</td>\n",
       "      <td>-1.387024</td>\n",
       "      <td>...</td>\n",
       "      <td>-0.108300</td>\n",
       "      <td>0.005274</td>\n",
       "      <td>-0.190321</td>\n",
       "      <td>-1.175575</td>\n",
       "      <td>0.647376</td>\n",
       "      <td>-0.221929</td>\n",
       "      <td>0.062723</td>\n",
       "      <td>0.061458</td>\n",
       "      <td>123.50</td>\n",
       "      <td>0</td>\n",
       "    </tr>\n",
       "    <tr>\n",
       "      <th>4</th>\n",
       "      <td>2.0</td>\n",
       "      <td>-1.158233</td>\n",
       "      <td>0.877737</td>\n",
       "      <td>1.548718</td>\n",
       "      <td>0.403034</td>\n",
       "      <td>-0.407193</td>\n",
       "      <td>0.095921</td>\n",
       "      <td>0.592941</td>\n",
       "      <td>-0.270533</td>\n",
       "      <td>0.817739</td>\n",
       "      <td>...</td>\n",
       "      <td>-0.009431</td>\n",
       "      <td>0.798278</td>\n",
       "      <td>-0.137458</td>\n",
       "      <td>0.141267</td>\n",
       "      <td>-0.206010</td>\n",
       "      <td>0.502292</td>\n",
       "      <td>0.219422</td>\n",
       "      <td>0.215153</td>\n",
       "      <td>69.99</td>\n",
       "      <td>0</td>\n",
       "    </tr>\n",
       "  </tbody>\n",
       "</table>\n",
       "<p>5 rows × 31 columns</p>\n",
       "</div>"
      ],
      "text/plain": [
       "   Time        V1        V2        V3        V4        V5        V6        V7  \\\n",
       "0   0.0 -1.359807 -0.072781  2.536347  1.378155 -0.338321  0.462388  0.239599   \n",
       "1   0.0  1.191857  0.266151  0.166480  0.448154  0.060018 -0.082361 -0.078803   \n",
       "2   1.0 -1.358354 -1.340163  1.773209  0.379780 -0.503198  1.800499  0.791461   \n",
       "3   1.0 -0.966272 -0.185226  1.792993 -0.863291 -0.010309  1.247203  0.237609   \n",
       "4   2.0 -1.158233  0.877737  1.548718  0.403034 -0.407193  0.095921  0.592941   \n",
       "\n",
       "         V8        V9  ...       V21       V22       V23       V24       V25  \\\n",
       "0  0.098698  0.363787  ... -0.018307  0.277838 -0.110474  0.066928  0.128539   \n",
       "1  0.085102 -0.255425  ... -0.225775 -0.638672  0.101288 -0.339846  0.167170   \n",
       "2  0.247676 -1.514654  ...  0.247998  0.771679  0.909412 -0.689281 -0.327642   \n",
       "3  0.377436 -1.387024  ... -0.108300  0.005274 -0.190321 -1.175575  0.647376   \n",
       "4 -0.270533  0.817739  ... -0.009431  0.798278 -0.137458  0.141267 -0.206010   \n",
       "\n",
       "        V26       V27       V28  Amount  Class  \n",
       "0 -0.189115  0.133558 -0.021053  149.62      0  \n",
       "1  0.125895 -0.008983  0.014724    2.69      0  \n",
       "2 -0.139097 -0.055353 -0.059752  378.66      0  \n",
       "3 -0.221929  0.062723  0.061458  123.50      0  \n",
       "4  0.502292  0.219422  0.215153   69.99      0  \n",
       "\n",
       "[5 rows x 31 columns]"
      ]
     },
     "execution_count": 3,
     "metadata": {},
     "output_type": "execute_result"
    }
   ],
   "source": [
    "df = pd.read_csv(data_path)\n",
    "X, y = df.drop(columns=['Class']), df['Class']\n",
    "\n",
    "df.head()"
   ]
  },
  {
   "cell_type": "code",
   "execution_count": 4,
   "metadata": {
    "colab": {
     "base_uri": "https://localhost:8080/"
    },
    "id": "6Vx3oM7wK1pP",
    "outputId": "b075a374-738f-46e1-b7d4-7bb59dc5ac97"
   },
   "outputs": [
    {
     "name": "stdout",
     "output_type": "stream",
     "text": [
      "Dataset Shape\n",
      "    rows:    284,807\n",
      "    columns: 31\n",
      "Classes unbalance in number\n",
      "    Non Fraud (0): 284,315\n",
      "    Fraud (1):     492\n",
      "Classes unbalance in percentage (%)\n",
      "    Non Fraud (0): 99.8273%\n",
      "    Fraud (1):     0.1727%\n",
      "\n"
     ]
    }
   ],
   "source": [
    "## before resampling\n",
    "print(f'''Dataset Shape\n",
    "    rows:    {df.shape[0]:,}\n",
    "    columns: {df.shape[1]}\n",
    "Classes unbalance in number\n",
    "    Non Fraud (0): {df['Class'].value_counts()[0]:,}\n",
    "    Fraud (1):     {df['Class'].value_counts()[1]:,}\n",
    "Classes unbalance in percentage (%)\n",
    "    Non Fraud (0): {(df['Class'].value_counts() / df.shape[0] * 100)[0]:.4f}%\n",
    "    Fraud (1):     {(df['Class'].value_counts() / df.shape[0] * 100)[1]:.4f}%\n",
    "''')"
   ]
  },
  {
   "cell_type": "markdown",
   "metadata": {},
   "source": [
    "# Running the model manually without resampling"
   ]
  },
  {
   "cell_type": "code",
   "execution_count": 5,
   "metadata": {
    "id": "RM-vY_YVJiIp"
   },
   "outputs": [],
   "source": [
    "EXP_ID = 'ROS + LogReg'\n",
    "\n",
    "X_train, X_test, y_train, y_test = train_test_split(\n",
    "    X, y, test_size=TEST_SIZE, random_state=RANDOM_STATE)"
   ]
  },
  {
   "cell_type": "code",
   "execution_count": 6,
   "metadata": {
    "colab": {
     "base_uri": "https://localhost:8080/"
    },
    "id": "z3lkK8t9KEbj",
    "outputId": "4a14818e-b217-4e52-d7a6-ce0fcd44783e"
   },
   "outputs": [
    {
     "data": {
      "text/plain": [
       "([{'class': 0,\n",
       "   'count': 190477,\n",
       "   'percent': 0.9982024944974321,\n",
       "   'subset': 'train',\n",
       "   'is_resampled': False,\n",
       "   'exp_id': 'ROS + LogReg'},\n",
       "  {'class': 1,\n",
       "   'count': 343,\n",
       "   'percent': 0.001797505502567865,\n",
       "   'subset': 'train',\n",
       "   'is_resampled': False,\n",
       "   'exp_id': 'ROS + LogReg'}],\n",
       " [{'class': 0,\n",
       "   'count': 190477,\n",
       "   'percent': 0.9982024944974321,\n",
       "   'subset': 'test',\n",
       "   'is_resampled': False,\n",
       "   'exp_id': 'ROS + LogReg'},\n",
       "  {'class': 1,\n",
       "   'count': 343,\n",
       "   'percent': 0.001797505502567865,\n",
       "   'subset': 'test',\n",
       "   'is_resampled': False,\n",
       "   'exp_id': 'ROS + LogReg'}])"
      ]
     },
     "execution_count": 6,
     "metadata": {},
     "output_type": "execute_result"
    }
   ],
   "source": [
    "get_data_metrics(y_train, 'train', EXP_ID), get_data_metrics(y_train, 'test', EXP_ID)"
   ]
  },
  {
   "cell_type": "code",
   "execution_count": 7,
   "metadata": {
    "id": "NqioW_IRLT5b"
   },
   "outputs": [
    {
     "data": {
      "text/plain": [
       "{'is_resampled': False,\n",
       " 'exp_id': 'ROS + LogReg',\n",
       " 'f_score': 0.7031249999999999,\n",
       " 'recall': 0.6040268456375839,\n",
       " 'precision': 0.8411214953271028,\n",
       " 'g_mean': 0.7771212377436191,\n",
       " 'roc_auc_score': 0.801922841178092}"
      ]
     },
     "execution_count": 7,
     "metadata": {},
     "output_type": "execute_result"
    }
   ],
   "source": [
    "lr = LogisticRegression(random_state=RANDOM_STATE, max_iter=ITER, n_jobs=N_JOBS)\n",
    "lr.fit(X_train, y_train)\n",
    "\n",
    "y_pred = lr.predict(X_test)\n",
    "lr_metrics = get_model_metrics(y_test, y_pred, EXP_ID)\n",
    "lr_metrics"
   ]
  },
  {
   "cell_type": "markdown",
   "metadata": {},
   "source": [
    "# Running Model with the data resampled"
   ]
  },
  {
   "cell_type": "code",
   "execution_count": 8,
   "metadata": {},
   "outputs": [
    {
     "data": {
      "text/html": [
       "<div>\n",
       "<style scoped>\n",
       "    .dataframe tbody tr th:only-of-type {\n",
       "        vertical-align: middle;\n",
       "    }\n",
       "\n",
       "    .dataframe tbody tr th {\n",
       "        vertical-align: top;\n",
       "    }\n",
       "\n",
       "    .dataframe thead th {\n",
       "        text-align: right;\n",
       "    }\n",
       "</style>\n",
       "<table border=\"1\" class=\"dataframe\">\n",
       "  <thead>\n",
       "    <tr style=\"text-align: right;\">\n",
       "      <th></th>\n",
       "      <th>class</th>\n",
       "      <th>count</th>\n",
       "      <th>percent</th>\n",
       "      <th>subset</th>\n",
       "      <th>is_resampled</th>\n",
       "      <th>exp_id</th>\n",
       "    </tr>\n",
       "  </thead>\n",
       "  <tbody>\n",
       "    <tr>\n",
       "      <th>0</th>\n",
       "      <td>0</td>\n",
       "      <td>284315</td>\n",
       "      <td>0.998273</td>\n",
       "      <td>main</td>\n",
       "      <td>False</td>\n",
       "      <td>ROS + LogReg</td>\n",
       "    </tr>\n",
       "    <tr>\n",
       "      <th>1</th>\n",
       "      <td>1</td>\n",
       "      <td>492</td>\n",
       "      <td>0.001727</td>\n",
       "      <td>main</td>\n",
       "      <td>False</td>\n",
       "      <td>ROS + LogReg</td>\n",
       "    </tr>\n",
       "    <tr>\n",
       "      <th>2</th>\n",
       "      <td>0</td>\n",
       "      <td>284315</td>\n",
       "      <td>0.500000</td>\n",
       "      <td>main</td>\n",
       "      <td>True</td>\n",
       "      <td>ROS + LogReg</td>\n",
       "    </tr>\n",
       "    <tr>\n",
       "      <th>3</th>\n",
       "      <td>1</td>\n",
       "      <td>284315</td>\n",
       "      <td>0.500000</td>\n",
       "      <td>main</td>\n",
       "      <td>True</td>\n",
       "      <td>ROS + LogReg</td>\n",
       "    </tr>\n",
       "  </tbody>\n",
       "</table>\n",
       "</div>"
      ],
      "text/plain": [
       "   class   count   percent subset  is_resampled        exp_id\n",
       "0      0  284315  0.998273   main         False  ROS + LogReg\n",
       "1      1     492  0.001727   main         False  ROS + LogReg\n",
       "2      0  284315  0.500000   main          True  ROS + LogReg\n",
       "3      1  284315  0.500000   main          True  ROS + LogReg"
      ]
     },
     "execution_count": 8,
     "metadata": {},
     "output_type": "execute_result"
    }
   ],
   "source": [
    "ros = RandomOverSampler(random_state=RANDOM_STATE)\n",
    "X_resampled, y_resampled = ros.fit_resample(X, y)\n",
    "\n",
    "## comparing some DataFrame metrics before and after resampling\n",
    "data_metrics = get_data_metrics(y, 'main', EXP_ID, False) + \\\n",
    "  get_data_metrics(y_resampled, 'main', EXP_ID, True)\n",
    "\n",
    "df_data_metrics = pd.DataFrame(data_metrics)\n",
    "df_data_metrics"
   ]
  },
  {
   "cell_type": "code",
   "execution_count": 9,
   "metadata": {},
   "outputs": [
    {
     "data": {
      "image/png": "[encoded data removed]",
      "text/plain": [
       "<Figure size 576x432 with 2 Axes>"
      ]
     },
     "metadata": {},
     "output_type": "display_data"
    }
   ],
   "source": [
    "_ = plt.figure(figsize=[8,6])\n",
    "plt.suptitle('Dataset Class Proportion')\n",
    "\n",
    "before = df_data_metrics[~df_data_metrics['is_resampled']]\n",
    "after = df_data_metrics[df_data_metrics['is_resampled']]\n",
    "\n",
    "plt.subplot(1,2,1)\n",
    "ax = sns.barplot(\n",
    "    data=before,\n",
    "    x='class',\n",
    "    y='count')\n",
    "for container in ax.containers:\n",
    "  ax.bar_label(container)\n",
    "plt.title('Before Resampling')\n",
    "\n",
    "plt.subplot(1,2,2)\n",
    "ax = sns.barplot(\n",
    "    data=after,\n",
    "    x='class',\n",
    "    y='count')\n",
    "for container in ax.containers:\n",
    "    ax.bar_label(container)\n",
    "plt.title('After Resampling')\n",
    "\n",
    "plt.tight_layout()"
   ]
  },
  {
   "cell_type": "code",
   "execution_count": 10,
   "metadata": {},
   "outputs": [],
   "source": [
    "X_train_resampled, X_test_resampled, y_train_resampled, y_test_resampled = train_test_split(\n",
    "    X_resampled, y_resampled, test_size=TEST_SIZE, random_state=RANDOM_STATE)"
   ]
  },
  {
   "cell_type": "code",
   "execution_count": 11,
   "metadata": {},
   "outputs": [
    {
     "data": {
      "text/html": [
       "<div>\n",
       "<style scoped>\n",
       "    .dataframe tbody tr th:only-of-type {\n",
       "        vertical-align: middle;\n",
       "    }\n",
       "\n",
       "    .dataframe tbody tr th {\n",
       "        vertical-align: top;\n",
       "    }\n",
       "\n",
       "    .dataframe thead th {\n",
       "        text-align: right;\n",
       "    }\n",
       "</style>\n",
       "<table border=\"1\" class=\"dataframe\">\n",
       "  <thead>\n",
       "    <tr style=\"text-align: right;\">\n",
       "      <th></th>\n",
       "      <th>class</th>\n",
       "      <th>count</th>\n",
       "      <th>percent</th>\n",
       "      <th>subset</th>\n",
       "      <th>is_resampled</th>\n",
       "      <th>exp_id</th>\n",
       "    </tr>\n",
       "  </thead>\n",
       "  <tbody>\n",
       "    <tr>\n",
       "      <th>0</th>\n",
       "      <td>0</td>\n",
       "      <td>284315</td>\n",
       "      <td>0.998273</td>\n",
       "      <td>main</td>\n",
       "      <td>False</td>\n",
       "      <td>ROS + LogReg</td>\n",
       "    </tr>\n",
       "    <tr>\n",
       "      <th>1</th>\n",
       "      <td>1</td>\n",
       "      <td>492</td>\n",
       "      <td>0.001727</td>\n",
       "      <td>main</td>\n",
       "      <td>False</td>\n",
       "      <td>ROS + LogReg</td>\n",
       "    </tr>\n",
       "    <tr>\n",
       "      <th>2</th>\n",
       "      <td>0</td>\n",
       "      <td>284315</td>\n",
       "      <td>0.500000</td>\n",
       "      <td>main</td>\n",
       "      <td>True</td>\n",
       "      <td>ROS + LogReg</td>\n",
       "    </tr>\n",
       "    <tr>\n",
       "      <th>3</th>\n",
       "      <td>1</td>\n",
       "      <td>284315</td>\n",
       "      <td>0.500000</td>\n",
       "      <td>main</td>\n",
       "      <td>True</td>\n",
       "      <td>ROS + LogReg</td>\n",
       "    </tr>\n",
       "    <tr>\n",
       "      <th>4</th>\n",
       "      <td>0</td>\n",
       "      <td>190477</td>\n",
       "      <td>0.998202</td>\n",
       "      <td>train</td>\n",
       "      <td>False</td>\n",
       "      <td>ROS + LogReg</td>\n",
       "    </tr>\n",
       "    <tr>\n",
       "      <th>5</th>\n",
       "      <td>1</td>\n",
       "      <td>343</td>\n",
       "      <td>0.001798</td>\n",
       "      <td>train</td>\n",
       "      <td>False</td>\n",
       "      <td>ROS + LogReg</td>\n",
       "    </tr>\n",
       "    <tr>\n",
       "      <th>6</th>\n",
       "      <td>0</td>\n",
       "      <td>190540</td>\n",
       "      <td>0.500129</td>\n",
       "      <td>train</td>\n",
       "      <td>True</td>\n",
       "      <td>ROS + LogReg</td>\n",
       "    </tr>\n",
       "    <tr>\n",
       "      <th>7</th>\n",
       "      <td>1</td>\n",
       "      <td>190442</td>\n",
       "      <td>0.499871</td>\n",
       "      <td>train</td>\n",
       "      <td>True</td>\n",
       "      <td>ROS + LogReg</td>\n",
       "    </tr>\n",
       "    <tr>\n",
       "      <th>8</th>\n",
       "      <td>1</td>\n",
       "      <td>149</td>\n",
       "      <td>0.001585</td>\n",
       "      <td>test</td>\n",
       "      <td>False</td>\n",
       "      <td>ROS + LogReg</td>\n",
       "    </tr>\n",
       "    <tr>\n",
       "      <th>9</th>\n",
       "      <td>0</td>\n",
       "      <td>93838</td>\n",
       "      <td>0.998415</td>\n",
       "      <td>test</td>\n",
       "      <td>False</td>\n",
       "      <td>ROS + LogReg</td>\n",
       "    </tr>\n",
       "    <tr>\n",
       "      <th>10</th>\n",
       "      <td>0</td>\n",
       "      <td>93873</td>\n",
       "      <td>0.500261</td>\n",
       "      <td>test</td>\n",
       "      <td>True</td>\n",
       "      <td>ROS + LogReg</td>\n",
       "    </tr>\n",
       "    <tr>\n",
       "      <th>11</th>\n",
       "      <td>1</td>\n",
       "      <td>93775</td>\n",
       "      <td>0.499739</td>\n",
       "      <td>test</td>\n",
       "      <td>True</td>\n",
       "      <td>ROS + LogReg</td>\n",
       "    </tr>\n",
       "  </tbody>\n",
       "</table>\n",
       "</div>"
      ],
      "text/plain": [
       "    class   count   percent subset  is_resampled        exp_id\n",
       "0       0  284315  0.998273   main         False  ROS + LogReg\n",
       "1       1     492  0.001727   main         False  ROS + LogReg\n",
       "2       0  284315  0.500000   main          True  ROS + LogReg\n",
       "3       1  284315  0.500000   main          True  ROS + LogReg\n",
       "4       0  190477  0.998202  train         False  ROS + LogReg\n",
       "5       1     343  0.001798  train         False  ROS + LogReg\n",
       "6       0  190540  0.500129  train          True  ROS + LogReg\n",
       "7       1  190442  0.499871  train          True  ROS + LogReg\n",
       "8       1     149  0.001585   test         False  ROS + LogReg\n",
       "9       0   93838  0.998415   test         False  ROS + LogReg\n",
       "10      0   93873  0.500261   test          True  ROS + LogReg\n",
       "11      1   93775  0.499739   test          True  ROS + LogReg"
      ]
     },
     "execution_count": 11,
     "metadata": {},
     "output_type": "execute_result"
    }
   ],
   "source": [
    "## comparing some DataFrame metrics before and after resampling\n",
    "# it can be noted that the minority class (fraud) grown significantly\n",
    "# the proportion of the two clases was maintained\n",
    "data_metrics = data_metrics + \\\n",
    "    get_data_metrics(y_train, 'train', EXP_ID, False) + \\\n",
    "    get_data_metrics(y_train_resampled, 'train', EXP_ID, True) + \\\n",
    "    get_data_metrics(y_test, 'test', EXP_ID, False) + \\\n",
    "    get_data_metrics(y_test_resampled, 'test', EXP_ID, True)\n",
    "\n",
    "df_data_metrics = pd.DataFrame(data_metrics)\n",
    "df_data_metrics"
   ]
  },
  {
   "cell_type": "code",
   "execution_count": 12,
   "metadata": {},
   "outputs": [
    {
     "data": {
      "image/png": "[encoded data removed]",
      "text/plain": [
       "<Figure size 1296x432 with 4 Axes>"
      ]
     },
     "metadata": {},
     "output_type": "display_data"
    }
   ],
   "source": [
    "_ = plt.figure(figsize=[18,6])\n",
    "plt.suptitle('Dataset Class Proportion')\n",
    "\n",
    "before = df_data_metrics[~df_data_metrics['is_resampled']]\n",
    "after = df_data_metrics[df_data_metrics['is_resampled']]\n",
    "\n",
    "## magtitudes\n",
    "# before\n",
    "plt.subplot(1,4,1)\n",
    "ax = sns.barplot(\n",
    "    data=before,\n",
    "    x='class',\n",
    "    y='count',\n",
    "    hue='subset',\n",
    "    palette='colorblind')\n",
    "for container in ax.containers:\n",
    "    ax.bar_label(container)\n",
    "plt.title('Before Resampling')\n",
    "plt.legend(frameon=True).get_frame().set_color('white')\n",
    "\n",
    "# after\n",
    "plt.subplot(1,4,2)\n",
    "ax = sns.barplot(\n",
    "    data=after,\n",
    "    x='class',\n",
    "    y='count',\n",
    "    hue='subset',\n",
    "    palette='colorblind')\n",
    "for container in ax.containers:\n",
    "    ax.bar_label(container)\n",
    "plt.title('After Resampling')\n",
    "plt.legend(frameon=True).get_frame().set_color('white')\n",
    "\n",
    "## percentages\n",
    "FMT = '%.3f%%'\n",
    "\n",
    "# before\n",
    "plt.subplot(1,4,3)\n",
    "ax = sns.barplot(\n",
    "    data=before,\n",
    "    x='class',\n",
    "    y='percent',\n",
    "    hue='subset',\n",
    "    palette='colorblind')\n",
    "for container in ax.containers:\n",
    "    ax.bar_label(container, fmt=FMT)\n",
    "plt.title('Before Resampling')\n",
    "plt.ylim([0,1.1])\n",
    "plt.legend(frameon=True).get_frame().set_color('white')\n",
    "\n",
    "# after\n",
    "plt.subplot(1,4,4)\n",
    "ax = sns.barplot(\n",
    "    data=after,\n",
    "    x='class',\n",
    "    y='percent',\n",
    "    hue='subset',\n",
    "    palette='colorblind')\n",
    "for container in ax.containers:\n",
    "    ax.bar_label(container, fmt=FMT)\n",
    "plt.title('After Resampling')\n",
    "plt.ylim([0,1.1])\n",
    "plt.legend(frameon=True).get_frame().set_color('white')\n",
    "\n",
    "plt.tight_layout()"
   ]
  },
  {
   "cell_type": "code",
   "execution_count": 13,
   "metadata": {},
   "outputs": [
    {
     "data": {
      "text/plain": [
       "{'is_resampled': True,\n",
       " 'exp_id': 'ROS + LogReg',\n",
       " 'f_score': 0.9365765568567364,\n",
       " 'recall': 0.9116039755840337,\n",
       " 'precision': 0.9629558778849292,\n",
       " 'g_mean': 0.9378709078291536,\n",
       " 'roc_auc_score': 0.9382493351660505}"
      ]
     },
     "execution_count": 13,
     "metadata": {},
     "output_type": "execute_result"
    }
   ],
   "source": [
    "lr_resampled = LogisticRegression(random_state=RANDOM_STATE, max_iter=ITER, n_jobs=N_JOBS)\\\n",
    "    .fit(X_train_resampled, y_train_resampled)\n",
    "y_pred_resampled = lr_resampled.predict(X_test_resampled)\n",
    "\n",
    "lr_metrics_res = get_model_metrics(y_test_resampled, y_pred_resampled, EXP_ID, True)\n",
    "lr_metrics_res"
   ]
  },
  {
   "cell_type": "code",
   "execution_count": 14,
   "metadata": {},
   "outputs": [
    {
     "data": {
      "text/html": [
       "<div>\n",
       "<style scoped>\n",
       "    .dataframe tbody tr th:only-of-type {\n",
       "        vertical-align: middle;\n",
       "    }\n",
       "\n",
       "    .dataframe tbody tr th {\n",
       "        vertical-align: top;\n",
       "    }\n",
       "\n",
       "    .dataframe thead th {\n",
       "        text-align: right;\n",
       "    }\n",
       "</style>\n",
       "<table border=\"1\" class=\"dataframe\">\n",
       "  <thead>\n",
       "    <tr style=\"text-align: right;\">\n",
       "      <th></th>\n",
       "      <th>is_resampled</th>\n",
       "      <th>exp_id</th>\n",
       "      <th>f_score</th>\n",
       "      <th>recall</th>\n",
       "      <th>precision</th>\n",
       "      <th>g_mean</th>\n",
       "      <th>roc_auc_score</th>\n",
       "    </tr>\n",
       "  </thead>\n",
       "  <tbody>\n",
       "    <tr>\n",
       "      <th>0</th>\n",
       "      <td>False</td>\n",
       "      <td>ROS + LogReg</td>\n",
       "      <td>0.703125</td>\n",
       "      <td>0.604027</td>\n",
       "      <td>0.841121</td>\n",
       "      <td>0.777121</td>\n",
       "      <td>0.801923</td>\n",
       "    </tr>\n",
       "    <tr>\n",
       "      <th>1</th>\n",
       "      <td>True</td>\n",
       "      <td>ROS + LogReg</td>\n",
       "      <td>0.936577</td>\n",
       "      <td>0.911604</td>\n",
       "      <td>0.962956</td>\n",
       "      <td>0.937871</td>\n",
       "      <td>0.938249</td>\n",
       "    </tr>\n",
       "  </tbody>\n",
       "</table>\n",
       "</div>"
      ],
      "text/plain": [
       "   is_resampled        exp_id   f_score    recall  precision    g_mean  \\\n",
       "0         False  ROS + LogReg  0.703125  0.604027   0.841121  0.777121   \n",
       "1          True  ROS + LogReg  0.936577  0.911604   0.962956  0.937871   \n",
       "\n",
       "   roc_auc_score  \n",
       "0       0.801923  \n",
       "1       0.938249  "
      ]
     },
     "execution_count": 14,
     "metadata": {},
     "output_type": "execute_result"
    }
   ],
   "source": [
    "df_model_metric = pd.DataFrame([lr_metrics, lr_metrics_res])\n",
    "df_model_metric"
   ]
  },
  {
   "cell_type": "code",
   "execution_count": 15,
   "metadata": {},
   "outputs": [
    {
     "data": {
      "text/plain": [
       "Index(['f_score', 'recall', 'precision', 'g_mean', 'roc_auc_score'], dtype='object')"
      ]
     },
     "execution_count": 15,
     "metadata": {},
     "output_type": "execute_result"
    }
   ],
   "source": [
    "# df_model_metric.info()\n",
    "df_model_metric.select_dtypes(include='float64').columns"
   ]
  },
  {
   "cell_type": "code",
   "execution_count": 16,
   "metadata": {},
   "outputs": [
    {
     "data": {
      "image/png": "[encoded data removed]",
      "text/plain": [
       "<Figure size 864x432 with 5 Axes>"
      ]
     },
     "metadata": {},
     "output_type": "display_data"
    }
   ],
   "source": [
    "_ = plt.figure(figsize=[12,6])\n",
    "plt.suptitle('Model Metric Improvement with ROS Resampling')\n",
    "\n",
    "metric_list = df_model_metric.select_dtypes(include='float64').columns\n",
    "for i, metric in enumerate(metric_list):\n",
    "    plt.subplot(1, metric_list.__len__(), i+1)\n",
    "    ax = sns.barplot(\n",
    "        data=df_model_metric,\n",
    "        x='is_resampled',\n",
    "        y=metric,\n",
    "        palette='colorblind')\n",
    "    for container in ax.containers:\n",
    "        ax.bar_label(container, fmt=FMT)\n",
    "    ax.set_ylabel('%')\n",
    "    plt.ylim([0,1.01])\n",
    "    plt.title(metric.replace('_', ' ').capitalize())\n",
    "  \n",
    "plt.tight_layout()"
   ]
  }
 ],
 "metadata": {
  "colab": {
   "collapsed_sections": [],
   "name": "ros_experiment.ipynb",
   "provenance": []
  },
  "kernelspec": {
   "display_name": "Python [conda env:ml]",
   "language": "python",
   "name": "conda-env-ml-py"
  },
  "language_info": {
   "codemirror_mode": {
    "name": "ipython",
    "version": 3
   },
   "file_extension": ".py",
   "mimetype": "text/x-python",
   "name": "python",
   "nbconvert_exporter": "python",
   "pygments_lexer": "ipython3",
   "version": "3.9.7"
  }
 },
 "nbformat": 4,
 "nbformat_minor": 1
}
